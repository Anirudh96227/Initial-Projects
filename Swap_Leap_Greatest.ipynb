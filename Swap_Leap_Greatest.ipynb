{
 "cells": [
  {
   "cell_type": "code",
   "execution_count": 1,
   "id": "68675ac0",
   "metadata": {},
   "outputs": [
    {
     "name": "stdout",
     "output_type": "stream",
     "text": [
      "Enter the value of x :9\n",
      "81.0\n"
     ]
    }
   ],
   "source": [
    "x= input('Enter the value of x :')\n",
    "print(float(x)*float(x))"
   ]
  },
  {
   "cell_type": "code",
   "execution_count": 2,
   "id": "6839d218",
   "metadata": {},
   "outputs": [
    {
     "name": "stdout",
     "output_type": "stream",
     "text": [
      "Enter x :9\n",
      "Enter y :12\n",
      "x = 12\n",
      "y = 9\n"
     ]
    }
   ],
   "source": [
    "x=input(\"Enter x :\")\n",
    "y=input(\"Enter y :\")\n",
    "temp=x\n",
    "x=y\n",
    "y=temp\n",
    "print('x = {}'.format(x))\n",
    "print('y = {}'.format(y))"
   ]
  },
  {
   "cell_type": "code",
   "execution_count": 3,
   "id": "acce66b5",
   "metadata": {},
   "outputs": [
    {
     "name": "stdout",
     "output_type": "stream",
     "text": [
      "x = 10\n",
      "y = 5\n"
     ]
    }
   ],
   "source": [
    "x = 5\n",
    "y = 10\n",
    "\n",
    "x, y = y, x\n",
    "print(\"x =\", x)\n",
    "print(\"y =\", y)\n"
   ]
  },
  {
   "cell_type": "code",
   "execution_count": 4,
   "id": "8a009fab",
   "metadata": {},
   "outputs": [
    {
     "name": "stdout",
     "output_type": "stream",
     "text": [
      "6\n"
     ]
    }
   ],
   "source": [
    "import random\n",
    "\n",
    "print(random.randint(0,9))"
   ]
  },
  {
   "cell_type": "code",
   "execution_count": 5,
   "id": "b682c103",
   "metadata": {},
   "outputs": [
    {
     "name": "stdout",
     "output_type": "stream",
     "text": [
      "11\n"
     ]
    }
   ],
   "source": [
    "import random\n",
    "\n",
    "print(random.randint(9,12))"
   ]
  },
  {
   "cell_type": "code",
   "execution_count": 6,
   "id": "7b8a94fc",
   "metadata": {},
   "outputs": [
    {
     "name": "stdout",
     "output_type": "stream",
     "text": [
      "Enter a number: -9\n",
      "Negative number\n"
     ]
    }
   ],
   "source": [
    "num = float(input(\"Enter a number: \"))\n",
    "if num > 0:\n",
    "   print(\"Positive number\")\n",
    "elif num == 0:\n",
    "   print(\"Zero\")\n",
    "else:\n",
    "   print(\"Negative number\")\n"
   ]
  },
  {
   "cell_type": "code",
   "execution_count": 7,
   "id": "0bfb1469",
   "metadata": {},
   "outputs": [
    {
     "name": "stdout",
     "output_type": "stream",
     "text": [
      "Enter a number: 9\n",
      "9\n"
     ]
    }
   ],
   "source": [
    "num = float(input(\"Enter a number: \"))\n",
    "if num > 9:\n",
    "   print(\">9\")\n",
    "elif num == 9:\n",
    "   print(\"9\")\n",
    "else:\n",
    "   print(\"<9\")"
   ]
  },
  {
   "cell_type": "code",
   "execution_count": 8,
   "id": "24fe22e3",
   "metadata": {},
   "outputs": [
    {
     "name": "stdout",
     "output_type": "stream",
     "text": [
      "Enter Number: 2\n",
      "Even\n"
     ]
    }
   ],
   "source": [
    "num = float(input(\"Enter Number: \"))\n",
    "if (num%2==0):\n",
    "    print(\"Even\")\n",
    "    \n",
    "    \n",
    "else:\n",
    "    print(\"ODD\")\n",
    "\n"
   ]
  },
  {
   "cell_type": "code",
   "execution_count": 9,
   "id": "92606b8e",
   "metadata": {},
   "outputs": [
    {
     "name": "stdout",
     "output_type": "stream",
     "text": [
      "Enter Number: 33\n",
      "ODD\n"
     ]
    }
   ],
   "source": [
    "num = float(input(\"Enter Number: \"))\n",
    "if (num%2==0):\n",
    "    print(\"Even\")\n",
    "    \n",
    "    \n",
    "else:\n",
    "    print(\"ODD\")\n"
   ]
  },
  {
   "cell_type": "code",
   "execution_count": 10,
   "id": "8e27e9c5",
   "metadata": {},
   "outputs": [
    {
     "name": "stdout",
     "output_type": "stream",
     "text": [
      "Enter Year: 1996\n",
      "Not Leap\n"
     ]
    }
   ],
   "source": [
    "num = float(input(\"Enter Year: \"))\n",
    "if (num%400==0):\n",
    "    print(\"Leap\")\n",
    "    \n",
    "    \n",
    "else:\n",
    "    print(\"Not Leap\")\n"
   ]
  },
  {
   "cell_type": "code",
   "execution_count": 11,
   "id": "6d45bb5e",
   "metadata": {},
   "outputs": [
    {
     "name": "stdout",
     "output_type": "stream",
     "text": [
      "Enter Year: 2000\n",
      "Leap\n"
     ]
    }
   ],
   "source": [
    "num = int(input(\"Enter Year: \"))\n",
    "if (num%400==0):\n",
    "    print(\"Leap\")\n",
    "    \n",
    "    \n",
    "else:\n",
    "    print(\"Not Leap\")"
   ]
  },
  {
   "cell_type": "code",
   "execution_count": 12,
   "id": "e5e92d53",
   "metadata": {},
   "outputs": [
    {
     "name": "stdout",
     "output_type": "stream",
     "text": [
      "Enter Year: 1996\n",
      "Not Leap\n"
     ]
    }
   ],
   "source": [
    "num = float(input(\"Enter Year: \"))\n",
    "if (num%400==0):\n",
    "    print(\"Leap\")\n",
    "    \n",
    "    \n",
    "else:\n",
    "    print(\"Not Leap\")"
   ]
  },
  {
   "cell_type": "code",
   "execution_count": 13,
   "id": "51557012",
   "metadata": {},
   "outputs": [
    {
     "name": "stdout",
     "output_type": "stream",
     "text": [
      "Enter Year: 1996\n"
     ]
    },
    {
     "ename": "NameError",
     "evalue": "name 'year' is not defined",
     "output_type": "error",
     "traceback": [
      "\u001b[1;31m---------------------------------------------------------------------------\u001b[0m",
      "\u001b[1;31mNameError\u001b[0m                                 Traceback (most recent call last)",
      "\u001b[1;32m~\\AppData\\Local\\Temp/ipykernel_9724/899110813.py\u001b[0m in \u001b[0;36m<module>\u001b[1;34m\u001b[0m\n\u001b[0;32m      1\u001b[0m \u001b[0mnum\u001b[0m \u001b[1;33m=\u001b[0m \u001b[0mfloat\u001b[0m\u001b[1;33m(\u001b[0m\u001b[0minput\u001b[0m\u001b[1;33m(\u001b[0m\u001b[1;34m\"Enter Year: \"\u001b[0m\u001b[1;33m)\u001b[0m\u001b[1;33m)\u001b[0m\u001b[1;33m\u001b[0m\u001b[1;33m\u001b[0m\u001b[0m\n\u001b[1;32m----> 2\u001b[1;33m \u001b[1;32mif\u001b[0m \u001b[1;33m(\u001b[0m\u001b[0myear\u001b[0m \u001b[1;33m%\u001b[0m \u001b[1;36m400\u001b[0m \u001b[1;33m==\u001b[0m \u001b[1;36m0\u001b[0m\u001b[1;33m)\u001b[0m \u001b[1;32mand\u001b[0m \u001b[1;33m(\u001b[0m\u001b[0myear\u001b[0m \u001b[1;33m%\u001b[0m \u001b[1;36m100\u001b[0m \u001b[1;33m==\u001b[0m \u001b[1;36m0\u001b[0m\u001b[1;33m)\u001b[0m\u001b[1;33m:\u001b[0m\u001b[1;33m\u001b[0m\u001b[1;33m\u001b[0m\u001b[0m\n\u001b[0m\u001b[0;32m      3\u001b[0m     \u001b[0mprint\u001b[0m\u001b[1;33m(\u001b[0m\u001b[1;34m\"Leap\"\u001b[0m\u001b[1;33m)\u001b[0m\u001b[1;33m\u001b[0m\u001b[1;33m\u001b[0m\u001b[0m\n\u001b[0;32m      4\u001b[0m \u001b[1;33m\u001b[0m\u001b[0m\n\u001b[0;32m      5\u001b[0m \u001b[1;33m\u001b[0m\u001b[0m\n",
      "\u001b[1;31mNameError\u001b[0m: name 'year' is not defined"
     ]
    }
   ],
   "source": [
    "num = float(input(\"Enter Year: \"))\n",
    "if (year % 400 == 0) and (year % 100 == 0):\n",
    "    print(\"Leap\")\n",
    "    \n",
    "    \n",
    "else:\n",
    "    print(\"Not Leap\")"
   ]
  },
  {
   "cell_type": "code",
   "execution_count": 14,
   "id": "780d991b",
   "metadata": {},
   "outputs": [
    {
     "name": "stdout",
     "output_type": "stream",
     "text": [
      "Enter Year: 2000\n",
      "Leap\n"
     ]
    }
   ],
   "source": [
    "year = float(input(\"Enter Year: \"))\n",
    "if (year % 400 == 0) and (year % 100 == 0):\n",
    "    print(\"Leap\")\n",
    "    \n",
    "    \n",
    "else:\n",
    "    print(\"Not Leap\")"
   ]
  },
  {
   "cell_type": "code",
   "execution_count": 18,
   "id": "b20de7f2",
   "metadata": {},
   "outputs": [
    {
     "ename": "IndentationError",
     "evalue": "unindent does not match any outer indentation level (<tokenize>, line 9)",
     "output_type": "error",
     "traceback": [
      "\u001b[1;36m  File \u001b[1;32m\"<tokenize>\"\u001b[1;36m, line \u001b[1;32m9\u001b[0m\n\u001b[1;33m    else:\u001b[0m\n\u001b[1;37m    ^\u001b[0m\n\u001b[1;31mIndentationError\u001b[0m\u001b[1;31m:\u001b[0m unindent does not match any outer indentation level\n"
     ]
    }
   ],
   "source": [
    "year = float(input(\"Enter Year: \"))\n",
    "if (year % 400 == 0) and (year % 100 == 0):\n",
    "    print(\"Leap\")\n",
    "    \n",
    "elif (year % 4 ==0) and (year % 100 != 0):\n",
    "        print(\"Leap\")\n",
    "    \n",
    "    \n",
    "    else:\n",
    "    print(\"Not Leap\")"
   ]
  },
  {
   "cell_type": "code",
   "execution_count": 19,
   "id": "905cf03c",
   "metadata": {},
   "outputs": [
    {
     "name": "stdout",
     "output_type": "stream",
     "text": [
      "Enter Year: 2000\n",
      "Leap\n"
     ]
    }
   ],
   "source": [
    "year = float(input(\"Enter Year: \"))\n",
    "if (year % 400 == 0) and (year % 100 == 0):\n",
    "    print(\"Leap\")\n",
    "    \n",
    "elif (year % 4 ==0) and (year % 100 != 0):\n",
    "        print(\"Leap\")\n",
    "    \n",
    "else:\n",
    "    print(\"Not Leap\")"
   ]
  },
  {
   "cell_type": "code",
   "execution_count": 20,
   "id": "f2f5be88",
   "metadata": {},
   "outputs": [
    {
     "name": "stdout",
     "output_type": "stream",
     "text": [
      "Enter Year: 2004\n",
      "Leap\n"
     ]
    }
   ],
   "source": [
    "year = float(input(\"Enter Year: \"))\n",
    "if (year % 400 == 0) and (year % 100 == 0):\n",
    "    print(\"Leap\")\n",
    "    \n",
    "elif (year % 4 ==0) and (year % 100 != 0):\n",
    "        print(\"Leap\")\n",
    "    \n",
    "else:\n",
    "    print(\"Not Leap\")"
   ]
  },
  {
   "cell_type": "code",
   "execution_count": 21,
   "id": "8fb5b212",
   "metadata": {},
   "outputs": [
    {
     "name": "stdout",
     "output_type": "stream",
     "text": [
      "Enter Year: 1996\n",
      "Leap\n"
     ]
    }
   ],
   "source": [
    "year = float(input(\"Enter Year: \"))\n",
    "if (year % 400 == 0) and (year % 100 == 0):\n",
    "    print(\"Leap\")\n",
    "    \n",
    "elif (year % 4 ==0) and (year % 100 != 0):\n",
    "        print(\"Leap\")\n",
    "    \n",
    "else:\n",
    "    print(\"Not Leap\")"
   ]
  },
  {
   "cell_type": "code",
   "execution_count": null,
   "id": "055d91e9",
   "metadata": {},
   "outputs": [],
   "source": []
  },
  {
   "cell_type": "code",
   "execution_count": 22,
   "id": "2179ae76",
   "metadata": {},
   "outputs": [
    {
     "name": "stdout",
     "output_type": "stream",
     "text": [
      "Enter Year: 2021\n",
      "Not Leap\n"
     ]
    }
   ],
   "source": [
    "year = float(input(\"Enter Year: \"))\n",
    "if (year % 400 == 0) and (year % 100 == 0):\n",
    "    print(\"Leap\")\n",
    "    \n",
    "elif (year % 4 ==0) and (year % 100 != 0):\n",
    "        print(\"Leap\")\n",
    "    \n",
    "else:\n",
    "    print(\"Not Leap\")"
   ]
  },
  {
   "cell_type": "code",
   "execution_count": 23,
   "id": "5e430804",
   "metadata": {},
   "outputs": [
    {
     "name": "stdout",
     "output_type": "stream",
     "text": [
      "Enter first number: 9\n",
      "Enter second number: 21\n",
      "Enter third number: 12\n",
      "The largest number is 21.0\n"
     ]
    }
   ],
   "source": [
    "num1 = float(input(\"Enter first number: \"))\n",
    "num2 = float(input(\"Enter second number: \"))\n",
    "num3 = float(input(\"Enter third number: \"))\n",
    "if (num1 >= num2) and (num1 >= num3):\n",
    "   largest = num1\n",
    "elif (num2 >= num1) and (num2 >= num3):\n",
    "   largest = num2\n",
    "else:\n",
    "   largest = num3\n",
    "\n",
    "print(\"The largest number is\", largest)"
   ]
  },
  {
   "cell_type": "code",
   "execution_count": null,
   "id": "7000d1ce",
   "metadata": {},
   "outputs": [],
   "source": []
  }
 ],
 "metadata": {
  "kernelspec": {
   "display_name": "Python 3 (ipykernel)",
   "language": "python",
   "name": "python3"
  },
  "language_info": {
   "codemirror_mode": {
    "name": "ipython",
    "version": 3
   },
   "file_extension": ".py",
   "mimetype": "text/x-python",
   "name": "python",
   "nbconvert_exporter": "python",
   "pygments_lexer": "ipython3",
   "version": "3.9.7"
  }
 },
 "nbformat": 4,
 "nbformat_minor": 5
}
