{
 "cells": [
  {
   "cell_type": "code",
   "execution_count": 1,
   "id": "6031b9ca",
   "metadata": {},
   "outputs": [
    {
     "name": "stdout",
     "output_type": "stream",
     "text": [
      "Enter a number: 9\n",
      "The square root of 9.000 is 3.000\n"
     ]
    }
   ],
   "source": [
    "num = float(input('Enter a number: '))\n",
    "\n",
    "num_sqrt = num ** 0.5\n",
    "print('The square root of %0.3f is %0.3f'%(num ,num_sqrt))"
   ]
  },
  {
   "cell_type": "code",
   "execution_count": 2,
   "id": "c0f8995c",
   "metadata": {},
   "outputs": [
    {
     "name": "stdout",
     "output_type": "stream",
     "text": [
      "Enter : 9\n",
      "Square :\n",
      "81.0\n"
     ]
    }
   ],
   "source": [
    "number = float(input('Enter : '))\n",
    "print('Square :')\n",
    "print(number*number)"
   ]
  },
  {
   "cell_type": "markdown",
   "id": "50228571",
   "metadata": {},
   "source": []
  },
  {
   "cell_type": "raw",
   "id": "2af97b0a",
   "metadata": {},
   "source": [
    "number = float(input('Enter : '))\n",
    "print('Square :') print(number*number)\n"
   ]
  },
  {
   "cell_type": "code",
   "execution_count": 3,
   "id": "5ac7e695",
   "metadata": {},
   "outputs": [
    {
     "ename": "SyntaxError",
     "evalue": "invalid syntax (Temp/ipykernel_10252/2947600069.py, line 2)",
     "output_type": "error",
     "traceback": [
      "\u001b[1;36m  File \u001b[1;32m\"C:\\Users\\DELL\\AppData\\Local\\Temp/ipykernel_10252/2947600069.py\"\u001b[1;36m, line \u001b[1;32m2\u001b[0m\n\u001b[1;33m    print('Square :') print(number*number)\u001b[0m\n\u001b[1;37m                      ^\u001b[0m\n\u001b[1;31mSyntaxError\u001b[0m\u001b[1;31m:\u001b[0m invalid syntax\n"
     ]
    }
   ],
   "source": [
    "number = float(input('Enter : '))\n",
    "print('Square :') print(number*number)\n"
   ]
  },
  {
   "cell_type": "code",
   "execution_count": 4,
   "id": "70c7221c",
   "metadata": {},
   "outputs": [
    {
     "name": "stdout",
     "output_type": "stream",
     "text": [
      "Enter a number: 9\n",
      "The square of 9.000 is 81.000\n"
     ]
    }
   ],
   "source": [
    "num = float(input('Enter a number: '))\n",
    "\n",
    "num_sqrt = num ** 2\n",
    "print('The square of %0.3f is %0.3f'%(num ,num_sqrt))"
   ]
  },
  {
   "cell_type": "code",
   "execution_count": 5,
   "id": "3e99eb62",
   "metadata": {},
   "outputs": [
    {
     "name": "stdout",
     "output_type": "stream",
     "text": [
      "Enter a number: 99\n",
      "The cube of 99.000 is 970299.000\n"
     ]
    }
   ],
   "source": [
    "num = float(input('Enter a number: '))\n",
    "\n",
    "num_cube = num ** 3\n",
    "print('The cube of %0.3f is %0.3f'%(num ,num_cube))"
   ]
  },
  {
   "cell_type": "code",
   "execution_count": 6,
   "id": "45dc67eb",
   "metadata": {},
   "outputs": [
    {
     "name": "stdout",
     "output_type": "stream",
     "text": [
      "Enter a number: 9\n",
      "The cube of 9.000 is 729.000\n"
     ]
    }
   ],
   "source": [
    "num = float(input('Enter a number: '))\n",
    "\n",
    "num_cube = num ** 3\n",
    "print('The cube of %0.3f is %0.3f'%(num ,num_cube))\n"
   ]
  },
  {
   "cell_type": "code",
   "execution_count": null,
   "id": "a5c843eb",
   "metadata": {},
   "outputs": [],
   "source": []
  }
 ],
 "metadata": {
  "kernelspec": {
   "display_name": "Python 3 (ipykernel)",
   "language": "python",
   "name": "python3"
  },
  "language_info": {
   "codemirror_mode": {
    "name": "ipython",
    "version": 3
   },
   "file_extension": ".py",
   "mimetype": "text/x-python",
   "name": "python",
   "nbconvert_exporter": "python",
   "pygments_lexer": "ipython3",
   "version": "3.9.7"
  }
 },
 "nbformat": 4,
 "nbformat_minor": 5
}
